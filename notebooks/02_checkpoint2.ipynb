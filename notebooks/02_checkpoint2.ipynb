{
 "cells": [
  {
   "cell_type": "markdown",
   "id": "7fb27b941602401d91542211134fc71a",
   "metadata": {},
   "source": [
    "# Checkpoint 2 — Data Search & Acquisition\n",
    "\n",
    "Goals:\n",
    "- Define an Area of Interest (AOI) in Brazil.\n",
    "- Search for Sentinel‑2 L2A scenes with low cloud cover in the AOI.\n",
    "- Save a small artifact (metadata) and log reproducible evidence.\n",
    "- Visualize AOI and footprints on a map.\n",
    "\n",
    "Notes: Uses the public STAC endpoint at `earth-search.aws.element84.com`.\n"
   ]
  },
  {
   "cell_type": "code",
   "execution_count": null,
   "id": "acae54e37e7d407bbb7b55eff062a284",
   "metadata": {},
   "outputs": [],
   "source": [
    "from datetime import datetime\n",
    "import json\n",
    "from pathlib import Path\n",
    "\n",
    "from dotenv import load_dotenv\n",
    "import folium\n",
    "import requests\n",
    "\n",
    "from zexplorer.data_id_logger import DataSource, ModelInfo, log_evidence\n",
    "from zexplorer.geoutils import bbox_from_center\n",
    "\n",
    "load_dotenv()\n",
    "DATA_DIR = Path(\"data/stac_search\")\n",
    "DATA_DIR.mkdir(parents=True, exist_ok=True)\n",
    "\n",
    "CENTER_LAT = -10.0  # example in Brazil\n",
    "CENTER_LON = -52.0\n",
    "HALF_SIZE_M = 50_000  # 50 km half-size\n",
    "BBOX = bbox_from_center(CENTER_LAT, CENTER_LON, HALF_SIZE_M)  # [minlon, minlat, maxlon, maxlat]\n",
    "BBOX"
   ]
  },
  {
   "cell_type": "code",
   "execution_count": null,
   "id": "9a63283cbaf04dbcab1f6479b197f3a8",
   "metadata": {},
   "outputs": [],
   "source": [
    "def stac_search_s2(bbox, limit=10, max_cloud=10):\n",
    "    \"\"\"Search Sentinel-2 L2A via Earth Search (AWS Element 84).\n",
    "    bbox: [minlon, minlat, maxlon, maxlat]\n",
    "    \"\"\"\n",
    "    endpoint = \"https://earth-search.aws.element84.com/v1/search\"\n",
    "    payload = {\n",
    "        \"collections\": [\"sentinel-2-l2a\"],\n",
    "        \"bbox\": bbox,\n",
    "        \"limit\": limit,\n",
    "        \"query\": {\"eo:cloud_cover\": {\"lt\": max_cloud}},\n",
    "        \"sort\": [{\"field\": \"properties.datetime\", \"direction\": \"desc\"}],\n",
    "    }\n",
    "    r = requests.post(endpoint, json=payload, timeout=30)\n",
    "    r.raise_for_status()\n",
    "    data = r.json()\n",
    "    return data.get(\"features\", [])\n",
    "\n",
    "\n",
    "items = stac_search_s2(BBOX, limit=10, max_cloud=10)\n",
    "len(items), [it[\"id\"] for it in items[:3]]"
   ]
  },
  {
   "cell_type": "code",
   "execution_count": null,
   "id": "8dd0d8092fe74a7c96281538738b07e2",
   "metadata": {},
   "outputs": [],
   "source": [
    "# Save a small artifact (search results)\n",
    "ts = datetime.utcnow().strftime(\"%Y%m%dT%H%M%SZ\")\n",
    "out_path = DATA_DIR / f\"s2_search_{ts}.json\"\n",
    "with out_path.open(\"w\", encoding=\"utf-8\") as f:\n",
    "    json.dump({\"bbox\": BBOX, \"count\": len(items), \"items\": items}, f)\n",
    "out_path"
   ]
  },
  {
   "cell_type": "code",
   "execution_count": null,
   "id": "72eea5119410473aa328ad9291626812",
   "metadata": {},
   "outputs": [],
   "source": [
    "# Map AOI and footprints\n",
    "m = folium.Map(location=[CENTER_LAT, CENTER_LON], zoom_start=8, tiles=\"OpenStreetMap\")\n",
    "minlon, minlat, maxlon, maxlat = BBOX\n",
    "folium.Rectangle([[minlat, minlon], [maxlat, maxlon]], color=\"red\", fill=False, weight=2).add_to(m)\n",
    "\n",
    "for it in items:\n",
    "    geom = it.get(\"geometry\", {})\n",
    "    if geom.get(\"type\") == \"Polygon\":\n",
    "        coords = geom.get(\"coordinates\", [[]])[0]\n",
    "        latlon = [[y, x] for x, y in coords]\n",
    "        folium.PolyLine(latlon, color=\"blue\", weight=1, opacity=0.6).add_to(m)\n",
    "\n",
    "m"
   ]
  },
  {
   "cell_type": "code",
   "execution_count": null,
   "id": "8edb47106e1a46a883d545849b8ab81b",
   "metadata": {},
   "outputs": [],
   "source": [
    "# Log a single evidence record for the first item (if any)\n",
    "if items:\n",
    "    first = items[0]\n",
    "    item_id = first.get(\"id\", \"unknown\")\n",
    "    # Try to find a stable item URL\n",
    "    links = first.get(\"links\", [])\n",
    "    self_url = next((lnk.get(\"href\") for lnk in links if lnk.get(\"rel\") == \"self\"), None)\n",
    "\n",
    "    rec = log_evidence(\n",
    "        lat=CENTER_LAT,\n",
    "        lon=CENTER_LON,\n",
    "        candidate_id=f\"cp2-{item_id}\",\n",
    "        sources=[DataSource(type=\"Sentinel-2 L2A\", id=item_id, url=self_url)],\n",
    "        bbox=BBOX,\n",
    "        model=ModelInfo(name=\"manual\", version=\"0\"),\n",
    "        notes=\"Checkpoint 2: STAC search + evidence log\",\n",
    "        extra={\"stac_endpoint\": \"earth-search.aws.element84.com\"},\n",
    "    )\n",
    "    rec\n",
    "else:\n",
    "    print(\"No items found in AOI; adjust AOI or cloud filter.\")"
   ]
  },
  {
   "cell_type": "markdown",
   "id": "10185d26023b46108eb7d9f57d49d2b3",
   "metadata": {},
   "source": [
    "## TODO\n",
    "- Adjust AOI center/size and cloud cover as needed.\n",
    "- Consider persisting a small thumbnail URL or STAC properties.\n",
    "- Add more sources (e.g., Landsat, DEM tiles) to `sources`.\n",
    "- Write brief notes about why scenes are relevant for candidates.\n"
   ]
  }
 ],
 "metadata": {
  "kernelspec": {
   "display_name": "Python (zexplorer)",
   "language": "python",
   "name": "zexplorer"
  },
  "language_info": {
   "name": "python"
  }
 },
 "nbformat": 4,
 "nbformat_minor": 5
}
