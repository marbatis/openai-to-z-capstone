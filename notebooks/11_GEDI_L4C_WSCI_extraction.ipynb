{
 "cells": [
  {
   "cell_type": "markdown",
   "metadata": {},
   "source": [
    "# 11 — GEDI L4C WSCI Extraction (footprint‑level)\n",
    "Search and download **GEDI04_C (L4C) v2** granules via NASA Earthdata (ORNL DAAC),\n",
    "then extract **WSCI** for an AOI and export GeoJSON/CSV.\n",
    "\n",
    "Refs:\n",
    "- Product page: https://gedi.umd.edu/gedi-l4c-footprint-level-waveform-structural-complexity-index-released/\n",
    "- CMR concept (ORNL DAAC): https://cmr.earthdata.nasa.gov/search/concepts/C3049900163-ORNL_CLOUD.html\n"
   ]
  },
  {
   "cell_type": "markdown",
   "metadata": {},
   "source": [
    "## Setup\n",
    "Install extra deps once:\n",
    "```bash\n",
    "pip install earthaccess h5py geopandas shapely pyproj pandas\n",
    "```\n",
    "You need a free **Earthdata** account; run `earthaccess.login()`. "
   ]
  },
  {
   "cell_type": "code",
   "metadata": {},
   "source": [
    "import os, json, pandas as pd\n",
    "from shapely.geometry import box, Point\n",
    "import geopandas as gpd\n",
    "import h5py\n",
    "import earthaccess\n",
    "\n",
    "# ---- Parameters ----\n",
    "aoi_bbox = [-57.0, -3.0, -54.0, -1.0]  # [min_lon, min_lat, max_lon, max_lat] — TODO: update\n",
    "time_range = (\"2019-04-01\", \"2025-12-31\")\n",
    "out_dir = \"data/gedi_l4c\"\n",
    "os.makedirs(out_dir, exist_ok=True)\n",
    "\n",
    "earthaccess.login()\n",
    "results = earthaccess.search_data(\n",
    "    short_name=\"GEDI04_C\", version=\"2\", temporal=time_range, bounding_box=aoi_bbox\n",
    ")\n",
    "print(\"Granules:\", len(results))\n",
    "files = earthaccess.download(results, out_dir)\n",
    "files[:3]"
   ]
  },
  {
   "cell_type": "markdown",
   "metadata": {},
   "source": [
    "## Extract WSCI footprints from HDF5\n",
    "Each granule contains groups for shots/footprints; we extract lat/lon and **WSCI**."
   ]
  },
  {
   "cell_type": "code",
   "metadata": {},
   "source": [
    "recs = []\n",
    "for fp in files:\n",
    "    try:\n",
    "        with h5py.File(fp, \"r\") as h5:\n",
    "            # Path may be /GEDI04_C/footprint or similar; check group names\n",
    "            # Below is a defensive scan for datasets named 'WSCI' and 'lat', 'lon'\n",
    "            def find_dataset(name):\n",
    "                return [k for k in h5[name].keys() if isinstance(h5[name][k], h5py.Dataset)]\n",
    "\n",
    "            # Attempt common structure\n",
    "            for grp in h5.keys():\n",
    "                g = h5[grp]\n",
    "                if isinstance(g, h5py.Group) and \"lat\" in g and \"lon\" in g and \"WSCI\" in g:\n",
    "                    lat = g[\"lat\"][:]\n",
    "                    lon = g[\"lon\"][:]\n",
    "                    wsci = g[\"WSCI\"][:]\n",
    "                    for la, lo, w in zip(lat, lon, wsci):\n",
    "                        recs.append({\"lat\": float(la), \"lon\": float(lo), \"WSCI\": float(w)})\n",
    "    except Exception as e:\n",
    "        print(\"Skip file (structure not matched):\", fp, e)\n",
    "\n",
    "df = pd.DataFrame.from_records(recs)\n",
    "print(df.shape)\n",
    "gdf = gpd.GeoDataFrame(\n",
    "    df, geometry=[Point(xy) for xy in zip(df[\"lon\"], df[\"lat\"])], crs=\"EPSG:4326\"\n",
    ")\n",
    "aoi = gpd.GeoDataFrame({\"id\": [0]}, geometry=[box(*aoi_bbox)], crs=\"EPSG:4326\")\n",
    "gdf = gdf.loc[gdf.within(aoi.iloc[0].geometry)]\n",
    "gdf.to_file(os.path.join(out_dir, \"gedi_wsci_points.geojson\"), driver=\"GeoJSON\")\n",
    "df.to_csv(os.path.join(out_dir, \"gedi_wsci_points.csv\"), index=False)\n",
    "print(\"Exported GeoJSON/CSV:\", len(gdf))"
   ]
  },
  {
   "cell_type": "markdown",
   "metadata": {},
   "source": [
    "### Next\n",
    "- Join WSCI stats to segments from the ΔdB map (Notebook 10) and compare against nearby controls.\n",
    "- Log a second evidence line for the **same candidate network** using GEDI as the independent method."
   ]
  }
 ],
 "metadata": {
  "kernelspec": {
   "display_name": "Python 3",
   "language": "python",
   "name": "python3"
  }
 },
 "nbformat": 4,
 "nbformat_minor": 5
}