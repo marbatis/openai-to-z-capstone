{
  "cells": [
    {
      "cell_type": "markdown",
      "metadata": {},
      "source": [
        "# 10 \u2014 ALOS\u20112 Seasonal Composites (L\u2011band)\n",
        "Compute wet/dry \u03b30 dB composites for ALOS\u20112 PALSAR\u20112 ScanSAR (Level 2.2) over a Brazilian AOI,\n",
        "then produce \u0394 = wet \u2212 dry maps and list the contributing scenes (IDs) for evidence logging.\n",
        "\n",
        "**Dataset:** `JAXA/ALOS/PALSAR-2/Level2_2/ScanSAR` (GEE). Conversion DN\u2192\u03b30 dB: `10*log10(DN^2) - 83`.\n",
        "Docs: https://developers.google.com/earth-engine/datasets/catalog/JAXA_ALOS_PALSAR-2_Level2_2_ScanSAR\n"
      ]
    },
    {
      "cell_type": "code",
      "metadata": {},
      "source": [
        "import json, datetime as dt\n",
        "import ee\n",
        "try:\n",
        "    ee.Initialize()\n",
        "except Exception:\n",
        "    ee.Authenticate()\n",
        "    ee.Initialize()\n",
        "\n",
        "# ---- Parameters ----\n",
        "params = {\n",
        "    'aoi_bbox': [-57.0, -3.0, -54.0, -1.0],  # [min_lon, min_lat, max_lon, max_lat] \u2014 TODO: update\n",
        "    'start': '2015-01-01',\n",
        "    'end': '2025-01-01',\n",
        "    'wet_months': [12,1,2,3,4,5],\n",
        "    'dry_months': [6,7,8,9,10,11],\n",
        "    'pol': 'HH',  # 'HH' or 'HV'\n",
        "    'scale': 30,\n",
        "}\n",
        "geom = ee.Geometry.Rectangle(params['aoi_bbox'])\n",
        "\n",
        "def to_gamma0db(img):\n",
        "    pol = params['pol']\n",
        "    dn = img.select([pol])\n",
        "    gamma0 = dn.pow(2).log10().multiply(10).subtract(83).rename(f'{pol}_db')\n",
        "    return img.addBands(gamma0, overwrite=True)\n",
        "\n",
        "col = (\n",
        "    ee.ImageCollection('JAXA/ALOS/PALSAR-2/Level2_2/ScanSAR')\n",
        "    .filterBounds(geom)\n",
        "    .filterDate(params['start'], params['end'])\n",
        "    .map(to_gamma0db)\n",
        ")\n",
        "\n",
        "def month_filter(months):\n",
        "    mset = ee.List(months)\n",
        "    return col.filter(ee.Filter.inList('month', mset))\n",
        "\n",
        "# Add month property for filtering\n",
        "col = col.map(lambda i: i.set('month', ee.Date(i.get('system:time_start')).get('month')))\n",
        "\n",
        "wet = month_filter(params['wet_months']).median().select([f\"{params['pol']}_db\"]).rename('wet_db')\n",
        "dry = month_filter(params['dry_months']).median().select([f\"{params['pol']}_db\"]).rename('dry_db')\n",
        "delta = wet.subtract(dry).rename('delta_db')\n",
        "\n",
        "# Collect contributing scene IDs\n",
        "ids_wet = month_filter(params['wet_months']).aggregate_array('system:index').getInfo()\n",
        "ids_dry = month_filter(params['dry_months']).aggregate_array('system:index').getInfo()\n",
        "print('Wet scenes:', len(ids_wet))\n",
        "print('Dry scenes:', len(ids_dry))\n",
        "\n",
        "# Export params (for logging)\n",
        "meta = {\n",
        "    'aoi_bbox': params['aoi_bbox'],\n",
        "    'pol': params['pol'],\n",
        "    'wet_months': params['wet_months'],\n",
        "    'dry_months': params['dry_months'],\n",
        "    'ids_wet': ids_wet,\n",
        "    'ids_dry': ids_dry,\n",
        "}\n",
        "print(json.dumps(meta, indent=2)[:1000])\n"
      ],
      "outputs": []
    },
    {
      "cell_type": "markdown",
      "metadata": {},
      "source": [
        "### Visualization (optional; requires geemap)"
      ]
    },
    {
      "cell_type": "code",
      "metadata": {},
      "source": [
        "try:\n",
        "    import geemap\n",
        "    m = geemap.Map()\n",
        "    m.centerObject(geom, 8)\n",
        "    viz = {'min': -20, 'max': 5}\n",
        "    m.add_layer(wet, viz, 'wet_db')\n",
        "    m.add_layer(dry, viz, 'dry_db')\n",
        "    m.add_layer(delta, {'min': -5, 'max': 5}, 'delta_db')\n",
        "    m.addLayerControl()\n",
        "    m\n",
        "except Exception as e:\n",
        "    print('Install geemap to visualize:', e)\n"
      ]
    },
    {
      "cell_type": "markdown",
      "metadata": {},
      "source": [
        "### Evidence logging (JSONL)\n",
        "Uses the repo utility if available (`src/zexplorer`)."
      ]
    },
    {
      "cell_type": "code",
      "metadata": {},
      "source": [
        "try:\n",
        "    import sys\n",
        "    sys.path.append('src')\n",
        "    from zexplorer.data_id_logger import log_evidence, DataSource\n",
        "    rec = log_evidence(\n",
        "        lat=(params['aoi_bbox'][1]+params['aoi_bbox'][3])/2,\n",
        "        lon=(params['aoi_bbox'][0]+params['aoi_bbox'][2])/2,\n",
        "        candidate_id='rat-delta-0001',\n",
        "        sources=[\n",
        "            DataSource(type='ALOS2 ScanSAR L2.2 (wet)', id=str(ids_wet[:5]) + '...'),\n",
        "            DataSource(type='ALOS2 ScanSAR L2.2 (dry)', id=str(ids_dry[:5]) + '...'),\n",
        "        ],\n",
        "        bbox=params['aoi_bbox'],\n",
        "        notes='\u0394dB seasonal composite over AOI; see notebook 10.',\n",
        "    )\n",
        "    print('Logged evidence line.')\n",
        "except Exception as e:\n",
        "    print('Skipping logging (ensure src/ path available):', e)\n"
      ]
    }
  ],
  "metadata": {
    "kernelspec": {
      "display_name": "Python 3",
      "language": "python",
      "name": "python3"
    }
  },
  "nbformat": 4,
  "nbformat_minor": 5
}