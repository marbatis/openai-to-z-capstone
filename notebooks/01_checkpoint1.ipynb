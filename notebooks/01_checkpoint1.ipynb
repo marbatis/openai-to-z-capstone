{
 "cells": [
  {
   "cell_type": "markdown",
   "id": "7fb27b941602401d91542211134fc71a",
   "metadata": {},
   "source": [
    "# Checkpoint 1 — Define AOI and Log First Evidence\n",
    "\n",
    "This notebook mirrors the first checkpoint:\n",
    "1. Define a tract (bounding box) in the Amazon biome.\n",
    "2. Identify **at least one** public dataset with a verifiable identifier (LiDAR tile ID, scene ID, DOI).\n",
    "3. Log an `evidence_log.jsonl` entry using `zexplorer.data_id_logger`."
   ]
  },
  {
   "cell_type": "code",
   "execution_count": null,
   "id": "acae54e37e7d407bbb7b55eff062a284",
   "metadata": {},
   "outputs": [],
   "source": [
    "from zexplorer.data_id_logger import DataSource, ModelInfo, log_evidence\n",
    "from zexplorer.geoutils import bbox_from_center\n",
    "\n",
    "# 1) Choose a center point within Brazil (example placeholder) and AOI half-size (m)\n",
    "lat, lon = -10.000, -52.000  # TODO: update\n",
    "half_size_m = 50_000  # 100x100 km\n",
    "bbox = bbox_from_center(lat, lon, half_size_m)\n",
    "bbox\n"
   ]
  },
  {
   "cell_type": "code",
   "execution_count": null,
   "id": "9a63283cbaf04dbcab1f6479b197f3a8",
   "metadata": {},
   "outputs": [],
   "source": [
    "# 2) Fill in one public dataset identifier\n",
    "source = DataSource(\n",
    "    type=\"Sentinel-2\",  # e.g., 'LiDAR', 'GEDI', 'Landsat-9'\n",
    "    id=\"S2A_MSIL2A_YYYYMMDDThhmmss_...\",  # TODO: real scene/tile ID\n",
    "    url=None,\n",
    ")\n",
    "\n",
    "# Optional: record model info used for any AI step at this stage\n",
    "model = ModelInfo(name=\"gpt-4.1\", version=\"2025-06-01\")\n",
    "\n",
    "rec = log_evidence(\n",
    "    lat=lat,\n",
    "    lon=lon,\n",
    "    candidate_id=\"cand-0001\",\n",
    "    sources=[source],\n",
    "    bbox=bbox,\n",
    "    model=model,\n",
    "    notes=\"Initial AOI selection and first dataset ID\",\n",
    ")\n",
    "rec\n"
   ]
  },
  {
   "cell_type": "markdown",
   "id": "8dd0d8092fe74a7c96281538738b07e2",
   "metadata": {},
   "source": [
    "## Next: Acquire data and run a first pass\n",
    "- Download or reference one raster (LiDAR/DEM or multispectral).  \n",
    "- Compute any simple diagnostic (edge density, line presence).  \n",
    "- Log a second evidence line with the exact tile/scene ID used."
   ]
  }
 ],
 "metadata": {
  "kernelspec": {
   "display_name": "Python 3",
   "language": "python",
   "name": "python3"
  },
  "language_info": {
   "name": "python",
   "version": "3.x"
  }
 },
 "nbformat": 4,
 "nbformat_minor": 5
}